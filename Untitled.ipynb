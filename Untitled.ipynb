{
 "cells": [
  {
   "cell_type": "markdown",
   "id": "efa0f45b",
   "metadata": {},
   "source": [
    "# REAL STATE-PRICE PREDICTOR"
   ]
  },
  {
   "cell_type": "code",
   "execution_count": 1,
   "id": "29ba8276",
   "metadata": {},
   "outputs": [],
   "source": [
    "import pandas as pd"
   ]
  },
  {
   "cell_type": "code",
   "execution_count": 2,
   "id": "73688def",
   "metadata": {},
   "outputs": [],
   "source": [
    "housing=pd.read_csv('data1.csv')"
   ]
  },
  {
   "cell_type": "code",
   "execution_count": 3,
   "id": "2cc8e2d2",
   "metadata": {},
   "outputs": [
    {
     "data": {
      "text/html": [
       "<div>\n",
       "<style scoped>\n",
       "    .dataframe tbody tr th:only-of-type {\n",
       "        vertical-align: middle;\n",
       "    }\n",
       "\n",
       "    .dataframe tbody tr th {\n",
       "        vertical-align: top;\n",
       "    }\n",
       "\n",
       "    .dataframe thead th {\n",
       "        text-align: right;\n",
       "    }\n",
       "</style>\n",
       "<table border=\"1\" class=\"dataframe\">\n",
       "  <thead>\n",
       "    <tr style=\"text-align: right;\">\n",
       "      <th></th>\n",
       "      <th>CRIM</th>\n",
       "      <th>ZN</th>\n",
       "      <th>INDUS</th>\n",
       "      <th>CHAS</th>\n",
       "      <th>NOX</th>\n",
       "      <th>RM</th>\n",
       "      <th>AGE</th>\n",
       "      <th>DIS</th>\n",
       "      <th>RAD</th>\n",
       "      <th>TAX</th>\n",
       "      <th>PTRATIO</th>\n",
       "      <th>B</th>\n",
       "      <th>LSTAT</th>\n",
       "      <th>MEDV</th>\n",
       "    </tr>\n",
       "  </thead>\n",
       "  <tbody>\n",
       "    <tr>\n",
       "      <th>0</th>\n",
       "      <td>0.00632</td>\n",
       "      <td>18.0</td>\n",
       "      <td>2.31</td>\n",
       "      <td>0</td>\n",
       "      <td>0.538</td>\n",
       "      <td>6.575</td>\n",
       "      <td>65.2</td>\n",
       "      <td>4.0900</td>\n",
       "      <td>1</td>\n",
       "      <td>296</td>\n",
       "      <td>15.3</td>\n",
       "      <td>396.90</td>\n",
       "      <td>4.98</td>\n",
       "      <td>24.0</td>\n",
       "    </tr>\n",
       "    <tr>\n",
       "      <th>1</th>\n",
       "      <td>0.02731</td>\n",
       "      <td>0.0</td>\n",
       "      <td>7.07</td>\n",
       "      <td>0</td>\n",
       "      <td>0.469</td>\n",
       "      <td>6.421</td>\n",
       "      <td>78.9</td>\n",
       "      <td>4.9671</td>\n",
       "      <td>2</td>\n",
       "      <td>242</td>\n",
       "      <td>17.8</td>\n",
       "      <td>396.90</td>\n",
       "      <td>9.14</td>\n",
       "      <td>21.6</td>\n",
       "    </tr>\n",
       "    <tr>\n",
       "      <th>2</th>\n",
       "      <td>0.02729</td>\n",
       "      <td>0.0</td>\n",
       "      <td>7.07</td>\n",
       "      <td>0</td>\n",
       "      <td>0.469</td>\n",
       "      <td>7.185</td>\n",
       "      <td>61.1</td>\n",
       "      <td>4.9671</td>\n",
       "      <td>2</td>\n",
       "      <td>242</td>\n",
       "      <td>17.8</td>\n",
       "      <td>392.83</td>\n",
       "      <td>4.03</td>\n",
       "      <td>34.7</td>\n",
       "    </tr>\n",
       "    <tr>\n",
       "      <th>3</th>\n",
       "      <td>0.03237</td>\n",
       "      <td>0.0</td>\n",
       "      <td>2.18</td>\n",
       "      <td>0</td>\n",
       "      <td>0.458</td>\n",
       "      <td>6.998</td>\n",
       "      <td>45.8</td>\n",
       "      <td>6.0622</td>\n",
       "      <td>3</td>\n",
       "      <td>222</td>\n",
       "      <td>18.7</td>\n",
       "      <td>394.63</td>\n",
       "      <td>2.94</td>\n",
       "      <td>33.4</td>\n",
       "    </tr>\n",
       "    <tr>\n",
       "      <th>4</th>\n",
       "      <td>0.06905</td>\n",
       "      <td>0.0</td>\n",
       "      <td>2.18</td>\n",
       "      <td>0</td>\n",
       "      <td>0.458</td>\n",
       "      <td>7.147</td>\n",
       "      <td>54.2</td>\n",
       "      <td>6.0622</td>\n",
       "      <td>3</td>\n",
       "      <td>222</td>\n",
       "      <td>18.7</td>\n",
       "      <td>396.90</td>\n",
       "      <td>5.33</td>\n",
       "      <td>36.2</td>\n",
       "    </tr>\n",
       "  </tbody>\n",
       "</table>\n",
       "</div>"
      ],
      "text/plain": [
       "    CRIM    ZN     INDUS  CHAS     NOX     RM    AGE      DIS     RAD   TAX   \\\n",
       "0  0.00632   18.0   2.31       0   0.538  6.575     65.2  4.0900     1   296   \n",
       "1  0.02731    0.0   7.07       0   0.469  6.421     78.9  4.9671     2   242   \n",
       "2  0.02729    0.0   7.07       0   0.469  7.185     61.1  4.9671     2   242   \n",
       "3  0.03237    0.0   2.18       0   0.458  6.998     45.8  6.0622     3   222   \n",
       "4  0.06905    0.0   2.18       0   0.458  7.147     54.2  6.0622     3   222   \n",
       "\n",
       "    PTRATIO       B   LSTAT    MEDV   \n",
       "0       15.3  396.90     4.98   24.0  \n",
       "1       17.8  396.90     9.14   21.6  \n",
       "2       17.8  392.83     4.03   34.7  \n",
       "3       18.7  394.63     2.94   33.4  \n",
       "4       18.7  396.90     5.33   36.2  "
      ]
     },
     "execution_count": 3,
     "metadata": {},
     "output_type": "execute_result"
    }
   ],
   "source": [
    "housing.head()"
   ]
  },
  {
   "cell_type": "code",
   "execution_count": 4,
   "id": "a5e965ae",
   "metadata": {},
   "outputs": [
    {
     "name": "stdout",
     "output_type": "stream",
     "text": [
      "<class 'pandas.core.frame.DataFrame'>\n",
      "RangeIndex: 506 entries, 0 to 505\n",
      "Data columns (total 14 columns):\n",
      " #   Column     Non-Null Count  Dtype  \n",
      "---  ------     --------------  -----  \n",
      " 0   CRIM       506 non-null    float64\n",
      " 1   ZN         506 non-null    float64\n",
      " 2   INDUS      506 non-null    float64\n",
      " 3   CHAS       506 non-null    int64  \n",
      " 4    NOX       506 non-null    float64\n",
      " 5   RM         506 non-null    float64\n",
      " 6   AGE        506 non-null    float64\n",
      " 7   DIS        506 non-null    float64\n",
      " 8   RAD        506 non-null    int64  \n",
      " 9   TAX        506 non-null    int64  \n",
      " 10   PTRATIO   506 non-null    float64\n",
      " 11  B          506 non-null    float64\n",
      " 12  LSTAT      506 non-null    float64\n",
      " 13  MEDV       506 non-null    float64\n",
      "dtypes: float64(11), int64(3)\n",
      "memory usage: 55.5 KB\n"
     ]
    }
   ],
   "source": [
    "housing.info()#WE SEE TOTAL ROWS AND COMPARE THAT TO EACH ROWS FOR eg. there are total 506 rows and each column has total 506 rows means there is no empty or null values\n"
   ]
  },
  {
   "cell_type": "code",
   "execution_count": 5,
   "id": "b7393269",
   "metadata": {},
   "outputs": [
    {
     "data": {
      "text/plain": [
       "0    471\n",
       "1     35\n",
       "Name: CHAS  , dtype: int64"
      ]
     },
     "execution_count": 5,
     "metadata": {},
     "output_type": "execute_result"
    }
   ],
   "source": [
    "housing['CHAS  '].value_counts()"
   ]
  },
  {
   "cell_type": "code",
   "execution_count": 6,
   "id": "0497cb56",
   "metadata": {},
   "outputs": [
    {
     "data": {
      "text/html": [
       "<div>\n",
       "<style scoped>\n",
       "    .dataframe tbody tr th:only-of-type {\n",
       "        vertical-align: middle;\n",
       "    }\n",
       "\n",
       "    .dataframe tbody tr th {\n",
       "        vertical-align: top;\n",
       "    }\n",
       "\n",
       "    .dataframe thead th {\n",
       "        text-align: right;\n",
       "    }\n",
       "</style>\n",
       "<table border=\"1\" class=\"dataframe\">\n",
       "  <thead>\n",
       "    <tr style=\"text-align: right;\">\n",
       "      <th></th>\n",
       "      <th>CRIM</th>\n",
       "      <th>ZN</th>\n",
       "      <th>INDUS</th>\n",
       "      <th>CHAS</th>\n",
       "      <th>NOX</th>\n",
       "      <th>RM</th>\n",
       "      <th>AGE</th>\n",
       "      <th>DIS</th>\n",
       "      <th>RAD</th>\n",
       "      <th>TAX</th>\n",
       "      <th>PTRATIO</th>\n",
       "      <th>B</th>\n",
       "      <th>LSTAT</th>\n",
       "      <th>MEDV</th>\n",
       "    </tr>\n",
       "  </thead>\n",
       "  <tbody>\n",
       "    <tr>\n",
       "      <th>count</th>\n",
       "      <td>506.000000</td>\n",
       "      <td>506.000000</td>\n",
       "      <td>506.000000</td>\n",
       "      <td>506.000000</td>\n",
       "      <td>506.000000</td>\n",
       "      <td>506.000000</td>\n",
       "      <td>506.000000</td>\n",
       "      <td>506.000000</td>\n",
       "      <td>506.000000</td>\n",
       "      <td>506.000000</td>\n",
       "      <td>506.000000</td>\n",
       "      <td>506.000000</td>\n",
       "      <td>506.000000</td>\n",
       "      <td>506.000000</td>\n",
       "    </tr>\n",
       "    <tr>\n",
       "      <th>mean</th>\n",
       "      <td>3.613524</td>\n",
       "      <td>11.363636</td>\n",
       "      <td>11.136779</td>\n",
       "      <td>0.069170</td>\n",
       "      <td>0.554695</td>\n",
       "      <td>6.284634</td>\n",
       "      <td>68.574901</td>\n",
       "      <td>3.795043</td>\n",
       "      <td>9.549407</td>\n",
       "      <td>408.237154</td>\n",
       "      <td>18.455534</td>\n",
       "      <td>356.674032</td>\n",
       "      <td>12.653063</td>\n",
       "      <td>22.532806</td>\n",
       "    </tr>\n",
       "    <tr>\n",
       "      <th>std</th>\n",
       "      <td>8.601545</td>\n",
       "      <td>23.322453</td>\n",
       "      <td>6.860353</td>\n",
       "      <td>0.253994</td>\n",
       "      <td>0.115878</td>\n",
       "      <td>0.702617</td>\n",
       "      <td>28.148861</td>\n",
       "      <td>2.105710</td>\n",
       "      <td>8.707259</td>\n",
       "      <td>168.537116</td>\n",
       "      <td>2.164946</td>\n",
       "      <td>91.294864</td>\n",
       "      <td>7.141062</td>\n",
       "      <td>9.197104</td>\n",
       "    </tr>\n",
       "    <tr>\n",
       "      <th>min</th>\n",
       "      <td>0.006320</td>\n",
       "      <td>0.000000</td>\n",
       "      <td>0.460000</td>\n",
       "      <td>0.000000</td>\n",
       "      <td>0.385000</td>\n",
       "      <td>3.561000</td>\n",
       "      <td>2.900000</td>\n",
       "      <td>1.129600</td>\n",
       "      <td>1.000000</td>\n",
       "      <td>187.000000</td>\n",
       "      <td>12.600000</td>\n",
       "      <td>0.320000</td>\n",
       "      <td>1.730000</td>\n",
       "      <td>5.000000</td>\n",
       "    </tr>\n",
       "    <tr>\n",
       "      <th>25%</th>\n",
       "      <td>0.082045</td>\n",
       "      <td>0.000000</td>\n",
       "      <td>5.190000</td>\n",
       "      <td>0.000000</td>\n",
       "      <td>0.449000</td>\n",
       "      <td>5.885500</td>\n",
       "      <td>45.025000</td>\n",
       "      <td>2.100175</td>\n",
       "      <td>4.000000</td>\n",
       "      <td>279.000000</td>\n",
       "      <td>17.400000</td>\n",
       "      <td>375.377500</td>\n",
       "      <td>6.950000</td>\n",
       "      <td>17.025000</td>\n",
       "    </tr>\n",
       "    <tr>\n",
       "      <th>50%</th>\n",
       "      <td>0.256510</td>\n",
       "      <td>0.000000</td>\n",
       "      <td>9.690000</td>\n",
       "      <td>0.000000</td>\n",
       "      <td>0.538000</td>\n",
       "      <td>6.208500</td>\n",
       "      <td>77.500000</td>\n",
       "      <td>3.207450</td>\n",
       "      <td>5.000000</td>\n",
       "      <td>330.000000</td>\n",
       "      <td>19.050000</td>\n",
       "      <td>391.440000</td>\n",
       "      <td>11.360000</td>\n",
       "      <td>21.200000</td>\n",
       "    </tr>\n",
       "    <tr>\n",
       "      <th>75%</th>\n",
       "      <td>3.677083</td>\n",
       "      <td>12.500000</td>\n",
       "      <td>18.100000</td>\n",
       "      <td>0.000000</td>\n",
       "      <td>0.624000</td>\n",
       "      <td>6.623500</td>\n",
       "      <td>94.075000</td>\n",
       "      <td>5.188425</td>\n",
       "      <td>24.000000</td>\n",
       "      <td>666.000000</td>\n",
       "      <td>20.200000</td>\n",
       "      <td>396.225000</td>\n",
       "      <td>16.955000</td>\n",
       "      <td>25.000000</td>\n",
       "    </tr>\n",
       "    <tr>\n",
       "      <th>max</th>\n",
       "      <td>88.976200</td>\n",
       "      <td>100.000000</td>\n",
       "      <td>27.740000</td>\n",
       "      <td>1.000000</td>\n",
       "      <td>0.871000</td>\n",
       "      <td>8.780000</td>\n",
       "      <td>100.000000</td>\n",
       "      <td>12.126500</td>\n",
       "      <td>24.000000</td>\n",
       "      <td>711.000000</td>\n",
       "      <td>22.000000</td>\n",
       "      <td>396.900000</td>\n",
       "      <td>37.970000</td>\n",
       "      <td>50.000000</td>\n",
       "    </tr>\n",
       "  </tbody>\n",
       "</table>\n",
       "</div>"
      ],
      "text/plain": [
       "           CRIM         ZN          INDUS      CHAS         NOX          RM    \\\n",
       "count  506.000000  506.000000  506.000000  506.000000  506.000000  506.000000   \n",
       "mean     3.613524   11.363636   11.136779    0.069170    0.554695    6.284634   \n",
       "std      8.601545   23.322453    6.860353    0.253994    0.115878    0.702617   \n",
       "min      0.006320    0.000000    0.460000    0.000000    0.385000    3.561000   \n",
       "25%      0.082045    0.000000    5.190000    0.000000    0.449000    5.885500   \n",
       "50%      0.256510    0.000000    9.690000    0.000000    0.538000    6.208500   \n",
       "75%      3.677083   12.500000   18.100000    0.000000    0.624000    6.623500   \n",
       "max     88.976200  100.000000   27.740000    1.000000    0.871000    8.780000   \n",
       "\n",
       "          AGE          DIS           RAD         TAX     PTRATIO           B   \\\n",
       "count  506.000000  506.000000  506.000000  506.000000  506.000000  506.000000   \n",
       "mean    68.574901    3.795043    9.549407  408.237154   18.455534  356.674032   \n",
       "std     28.148861    2.105710    8.707259  168.537116    2.164946   91.294864   \n",
       "min      2.900000    1.129600    1.000000  187.000000   12.600000    0.320000   \n",
       "25%     45.025000    2.100175    4.000000  279.000000   17.400000  375.377500   \n",
       "50%     77.500000    3.207450    5.000000  330.000000   19.050000  391.440000   \n",
       "75%     94.075000    5.188425   24.000000  666.000000   20.200000  396.225000   \n",
       "max    100.000000   12.126500   24.000000  711.000000   22.000000  396.900000   \n",
       "\n",
       "          LSTAT         MEDV   \n",
       "count  506.000000  506.000000  \n",
       "mean    12.653063   22.532806  \n",
       "std      7.141062    9.197104  \n",
       "min      1.730000    5.000000  \n",
       "25%      6.950000   17.025000  \n",
       "50%     11.360000   21.200000  \n",
       "75%     16.955000   25.000000  \n",
       "max     37.970000   50.000000  "
      ]
     },
     "execution_count": 6,
     "metadata": {},
     "output_type": "execute_result"
    }
   ],
   "source": [
    "housing.describe()"
   ]
  },
  {
   "cell_type": "code",
   "execution_count": 7,
   "id": "1f211c9d",
   "metadata": {},
   "outputs": [],
   "source": [
    "import matplotlib.pyplot as plt\n",
    "%matplotlib inline"
   ]
  },
  {
   "cell_type": "code",
   "execution_count": 8,
   "id": "2091f96e",
   "metadata": {},
   "outputs": [
    {
     "data": {
      "image/png": "[encoded data removed]",
      "text/plain": [
       "<Figure size 1440x1080 with 16 Axes>"
      ]
     },
     "metadata": {
      "needs_background": "light"
     },
     "output_type": "display_data"
    }
   ],
   "source": [
    "housing.hist(bins=50, figsize=(20,15)) #choose all columns of housing data we can also specific column like housing['CRIM'] then we it will onle make CRIM COLUMN values histogram\n",
    "plt.show()"
   ]
  },
  {
   "cell_type": "markdown",
   "id": "931cfa72",
   "metadata": {},
   "source": [
    "# Train-Test Splitting\n"
   ]
  },
  {
   "cell_type": "markdown",
   "id": "10bbfb81",
   "metadata": {},
   "source": [
    "# Manual Splitting Function"
   ]
  },
  {
   "cell_type": "code",
   "execution_count": 9,
   "id": "85bae558",
   "metadata": {},
   "outputs": [],
   "source": [
    "#MANUAL SPLITTING\n",
    "import numpy as np\n",
    "def split_train_test(data,test_ratio):\n",
    "   #EVERY TME WE RUN SHUFFLED VARIABLE IT WILL TAKE DIFFERENT NUMBERS EVERY TIME WE RUN SO IN THIS WAY TEST VALUES CAN ALSO REPEAT IN TRAIN AND TRAIN CAN ALSO IN TEST SO TO AVOID TAHT WE SET NP.RANDOM.SEED TO 42 OR ANY UMBER WE WANT \n",
    "    np.random.seed(42)\n",
    "    #getting random data shuffled with np.permutation \n",
    "    shuffled=np.random.permutation(len(data))\n",
    "    #now testing data we give test ratio or percentage then * it with total length of data for eg total datalength is 506 we multiply it with 0.2 test_ratio to get te 20% of data to test\n",
    "    test_size=int(len(data)*test_ratio)#setting test size\n",
    "    #testset\n",
    "    test_indices=shuffled[:test_size]#for eg if testsize has 50 values it will shuffle that and it will take from 0 to 50[(it will take from 0 if its empty):test_size]\n",
    "    #trainset\n",
    "    train_indices=shuffled[test_size:]#for eg if test size is 50 then it will take from 50 to the ending 506 with shuffled data taht we do shuffled instance[testsize:(it will take it till end if its empty)]\n",
    "    return data.iloc[train_indices],data.iloc[test_indices]"
   ]
  },
  {
   "cell_type": "code",
   "execution_count": 10,
   "id": "58978fbd",
   "metadata": {},
   "outputs": [
    {
     "data": {
      "text/plain": [
       "(       CRIM    ZN     INDUS  CHAS     NOX     RM    AGE      DIS     RAD   \\\n",
       " 75    0.09512    0.0  12.83       0  0.4370  6.286     45.0  4.5026     5   \n",
       " 477  15.02340    0.0  18.10       0  0.6140  5.304     97.3  2.1007    24   \n",
       " 15    0.62739    0.0   8.14       0  0.5380  5.834     56.5  4.4986     4   \n",
       " 332   0.03466   35.0   6.06       0  0.4379  6.031     23.3  6.6407     1   \n",
       " 423   7.05042    0.0  18.10       0  0.6140  6.103     85.1  2.0218    24   \n",
       " ..        ...    ...    ...     ...     ...    ...      ...     ...   ...   \n",
       " 106   0.17120    0.0   8.56       0  0.5200  5.836     91.9  2.2110     5   \n",
       " 270   0.29916   20.0   6.96       0  0.4640  5.856     42.1  4.4290     3   \n",
       " 348   0.01501   80.0   2.01       0  0.4350  6.635     29.7  8.3440     4   \n",
       " 435  11.16040    0.0  18.10       0  0.7400  6.629     94.6  2.1247    24   \n",
       " 102   0.22876    0.0   8.56       0  0.5200  6.405     85.4  2.7147     5   \n",
       " \n",
       "      TAX    PTRATIO       B   LSTAT    MEDV   \n",
       " 75    398       18.7  383.23     8.94   21.4  \n",
       " 477   666       20.2  349.48    24.91   12.0  \n",
       " 15    307       21.0  395.62     8.47   19.9  \n",
       " 332   304       16.9  362.25     7.83   19.4  \n",
       " 423   666       20.2    2.52    23.29   13.4  \n",
       " ..    ...        ...     ...      ...    ...  \n",
       " 106   384       20.9  395.67    18.66   19.5  \n",
       " 270   223       18.6  388.65    13.00   21.1  \n",
       " 348   280       17.0  390.94     5.99   24.5  \n",
       " 435   666       20.2  109.85    23.27   13.4  \n",
       " 102   384       20.9   70.80    10.63   18.6  \n",
       " \n",
       " [405 rows x 14 columns],\n",
       "        CRIM    ZN     INDUS  CHAS     NOX     RM    AGE      DIS     RAD   \\\n",
       " 173   0.09178    0.0   4.05       0   0.510  6.416     84.1  2.6463     5   \n",
       " 274   0.05644   40.0   6.41       1   0.447  6.758     32.9  4.0776     4   \n",
       " 491   0.10574    0.0  27.74       0   0.609  5.983     98.8  1.8681     4   \n",
       " 72    0.09164    0.0  10.81       0   0.413  6.065      7.8  5.2873     4   \n",
       " 452   5.09017    0.0  18.10       0   0.713  6.297     91.8  2.3682    24   \n",
       " ..        ...    ...    ...     ...     ...    ...      ...     ...   ...   \n",
       " 371   9.23230    0.0  18.10       0   0.631  6.216    100.0  1.1691    24   \n",
       " 412  18.81100    0.0  18.10       0   0.597  4.628    100.0  1.5539    24   \n",
       " 436  14.42080    0.0  18.10       0   0.740  6.461     93.3  2.0026    24   \n",
       " 411  14.05070    0.0  18.10       0   0.597  6.657    100.0  1.5275    24   \n",
       " 86    0.05188    0.0   4.49       0   0.449  6.015     45.1  4.4272     3   \n",
       " \n",
       "      TAX    PTRATIO       B   LSTAT    MEDV   \n",
       " 173   296       16.6  395.50     9.04   23.6  \n",
       " 274   254       17.6  396.90     3.53   32.4  \n",
       " 491   711       20.1  390.11    18.07   13.6  \n",
       " 72    305       19.2  390.91     5.52   22.8  \n",
       " 452   666       20.2  385.09    17.27   16.1  \n",
       " ..    ...        ...     ...      ...    ...  \n",
       " 371   666       20.2  366.15     9.53   50.0  \n",
       " 412   666       20.2   28.79    34.37   17.9  \n",
       " 436   666       20.2   27.49    18.05    9.6  \n",
       " 411   666       20.2   35.05    21.22   17.2  \n",
       " 86    247       18.5  395.99    12.86   22.5  \n",
       " \n",
       " [101 rows x 14 columns])"
      ]
     },
     "execution_count": 10,
     "metadata": {},
     "output_type": "execute_result"
    }
   ],
   "source": [
    "#Calling split funcion in a variable\n",
    "trainset, testset=split_train_test(housing,0.2)\n",
    "trainset, testset"
   ]
  },
  {
   "cell_type": "code",
   "execution_count": 11,
   "id": "d8617061",
   "metadata": {},
   "outputs": [
    {
     "name": "stdout",
     "output_type": "stream",
     "text": [
      "Rows in train set405\n",
      " Rows in test set101\n"
     ]
    }
   ],
   "source": [
    "print(f\"Rows in train set{len(trainset)}\\n Rows in test set{len(testset)}\")"
   ]
  },
  {
   "cell_type": "markdown",
   "id": "ee5acd31",
   "metadata": {},
   "source": [
    "# Using sklearn to train-test split"
   ]
  },
  {
   "cell_type": "code",
   "execution_count": 12,
   "id": "10411788",
   "metadata": {},
   "outputs": [
    {
     "name": "stdout",
     "output_type": "stream",
     "text": [
      "Rows in train set404\n",
      " Rows in test set102\n"
     ]
    }
   ],
   "source": [
    "from sklearn.model_selection import train_test_split\n",
    "train_set,test_set=train_test_split(housing,test_size=0.2,random_state=42)\n",
    "\n",
    "print(f\"Rows in train set{len(train_set)}\\n Rows in test set{len(test_set)}\")"
   ]
  },
  {
   "cell_type": "code",
   "execution_count": 13,
   "id": "c60b1bc0",
   "metadata": {},
   "outputs": [],
   "source": [
    "#NOW WE USE STRATIFIED SAMPLING BECAUSE WE WANT OUR TRAIN TEST SPLIT TO REPRESENT WHOLE POPULATION\n",
    "#example\n",
    "#If there is some feature which is very important and with sklearn traintest split we get all that important feature in test but not in train or in train not in test then there might be an error in our predictions and our model accuracy will suffer because we train our model iwth some data if that sample arenot available in test also then our model will suffer in predictions\n",
    "#so to divide the population in equal samples for all important na dun important features we use stratified sampling\n",
    "#FOR EXAMPLE IN THIS MODEL OUR TEAMS SAYS IF YOU WANT TO MAKE ACCURATE PREDICTIONS THAN TAKE CHAS VARIABLE IMPORTANT AS IT IS VERY IMPORTANT IN PREDICTIONS\n",
    "#SO I WILL DO STRATIFIED SAPMLING ON CHAS COLUMN OR FEATURE AND THANKFULLY WE HAVE LIBRARY IN SKLEARN FOR STRATIFIED SAMPLING"
   ]
  },
  {
   "cell_type": "code",
   "execution_count": 14,
   "id": "775cc912",
   "metadata": {},
   "outputs": [],
   "source": [
    "#Stratified shuffle split\n",
    "from sklearn.model_selection import StratifiedShuffleSplit\n",
    "split=StratifiedShuffleSplit(n_splits=1,test_size=0.2,random_state=42)\n",
    "for train_index,test_index in split.split(housing,housing['CHAS  ']): #We want chas column or feature to be stratified split so we take that\n",
    "    strat_train_set=housing.loc[train_index]\n",
    "    strat_test_set=housing.loc[test_index]\n",
    "    "
   ]
  },
  {
   "cell_type": "code",
   "execution_count": 15,
   "id": "51b0bc35",
   "metadata": {},
   "outputs": [
    {
     "data": {
      "text/plain": [
       "0    95\n",
       "1     7\n",
       "Name: CHAS  , dtype: int64"
      ]
     },
     "execution_count": 15,
     "metadata": {},
     "output_type": "execute_result"
    }
   ],
   "source": [
    "strat_test_set['CHAS  '].value_counts()"
   ]
  },
  {
   "cell_type": "code",
   "execution_count": 16,
   "id": "ff71f042",
   "metadata": {},
   "outputs": [
    {
     "data": {
      "text/plain": [
       "0    376\n",
       "1     28\n",
       "Name: CHAS  , dtype: int64"
      ]
     },
     "execution_count": 16,
     "metadata": {},
     "output_type": "execute_result"
    }
   ],
   "source": [
    "strat_train_set['CHAS  '].value_counts()"
   ]
  },
  {
   "cell_type": "code",
   "execution_count": 17,
   "id": "80b2f5cb",
   "metadata": {},
   "outputs": [
    {
     "data": {
      "text/plain": [
       "13.571428571428571"
      ]
     },
     "execution_count": 17,
     "metadata": {},
     "output_type": "execute_result"
    }
   ],
   "source": [
    "95/7"
   ]
  },
  {
   "cell_type": "code",
   "execution_count": 18,
   "id": "dd52feec",
   "metadata": {},
   "outputs": [
    {
     "data": {
      "text/plain": [
       "13.428571428571429"
      ]
     },
     "execution_count": 18,
     "metadata": {},
     "output_type": "execute_result"
    }
   ],
   "source": [
    "376/28"
   ]
  },
  {
   "cell_type": "code",
   "execution_count": 19,
   "id": "a2d3cde3",
   "metadata": {},
   "outputs": [],
   "source": [
    "#here after this we will copy the trainset in a variable do all the steps there\n",
    "housing=strat_train_set.copy()"
   ]
  },
  {
   "cell_type": "markdown",
   "id": "6e34563a",
   "metadata": {},
   "source": [
    "# Looking For Cor-relations"
   ]
  },
  {
   "cell_type": "code",
   "execution_count": 20,
   "id": "bd0248e1",
   "metadata": {},
   "outputs": [],
   "source": [
    "#corr() is used to find the pairwise correlation of all columns in the dataframe. Any na values are automatically excluded. For any non-numeric data type columns in the dataframe it is ignored.\n",
    "#corealtion means impact of change of one feature to other\n",
    "#If we increase medv value price then medv will increae or decrease means strong positive co-relation\n",
    "#strong postive relation means if u increase the value it will also effect the increase in your feature u wnat to predict for example here wwe are predicting price of the houses if any instance increases and it also effect the increase in prices this means it has a positive co-relation\n",
    "#For example RM MEANS IF NO OF ROOMS INCREASE PRICE OF HOUSE INCREASE MEANS IT HAS STRONG IMPACT SO IT IS STRONG POSITIVE CO-RELATION\n",
    "#CO-RELATION VALUES IN BETWEEN -1 TO 1 IF ITS IN - THEN NEGATIVE CO-RELATION IF + STRONG POSITIVE CO-RELATION"
   ]
  },
  {
   "cell_type": "code",
   "execution_count": 21,
   "id": "179a596f",
   "metadata": {},
   "outputs": [
    {
     "data": {
      "text/plain": [
       "MEDV         1.000000\n",
       "RM           0.679894\n",
       "B            0.361761\n",
       "ZN           0.339741\n",
       "DIS          0.240451\n",
       "CHAS         0.205066\n",
       "AGE         -0.364596\n",
       "RAD         -0.374693\n",
       "CRIM        -0.393715\n",
       " NOX        -0.422873\n",
       "TAX         -0.456657\n",
       "INDUS       -0.473516\n",
       " PTRATIO    -0.493534\n",
       "LSTAT       -0.740494\n",
       "Name: MEDV , dtype: float64"
      ]
     },
     "execution_count": 21,
     "metadata": {},
     "output_type": "execute_result"
    }
   ],
   "source": [
    "corr_matrix=housing.corr()\n",
    "corr_matrix['MEDV '].sort_values(ascending=False)\n"
   ]
  },
  {
   "cell_type": "code",
   "execution_count": 22,
   "id": "fe5e9c0a",
   "metadata": {
    "scrolled": true
   },
   "outputs": [
    {
     "data": {
      "text/plain": [
       "array([[<AxesSubplot:xlabel='MEDV ', ylabel='MEDV '>,\n",
       "        <AxesSubplot:xlabel='CHAS  ', ylabel='MEDV '>,\n",
       "        <AxesSubplot:xlabel='RM  ', ylabel='MEDV '>,\n",
       "        <AxesSubplot:xlabel='ZN   ', ylabel='MEDV '>,\n",
       "        <AxesSubplot:xlabel='LSTAT  ', ylabel='MEDV '>],\n",
       "       [<AxesSubplot:xlabel='MEDV ', ylabel='CHAS  '>,\n",
       "        <AxesSubplot:xlabel='CHAS  ', ylabel='CHAS  '>,\n",
       "        <AxesSubplot:xlabel='RM  ', ylabel='CHAS  '>,\n",
       "        <AxesSubplot:xlabel='ZN   ', ylabel='CHAS  '>,\n",
       "        <AxesSubplot:xlabel='LSTAT  ', ylabel='CHAS  '>],\n",
       "       [<AxesSubplot:xlabel='MEDV ', ylabel='RM  '>,\n",
       "        <AxesSubplot:xlabel='CHAS  ', ylabel='RM  '>,\n",
       "        <AxesSubplot:xlabel='RM  ', ylabel='RM  '>,\n",
       "        <AxesSubplot:xlabel='ZN   ', ylabel='RM  '>,\n",
       "        <AxesSubplot:xlabel='LSTAT  ', ylabel='RM  '>],\n",
       "       [<AxesSubplot:xlabel='MEDV ', ylabel='ZN   '>,\n",
       "        <AxesSubplot:xlabel='CHAS  ', ylabel='ZN   '>,\n",
       "        <AxesSubplot:xlabel='RM  ', ylabel='ZN   '>,\n",
       "        <AxesSubplot:xlabel='ZN   ', ylabel='ZN   '>,\n",
       "        <AxesSubplot:xlabel='LSTAT  ', ylabel='ZN   '>],\n",
       "       [<AxesSubplot:xlabel='MEDV ', ylabel='LSTAT  '>,\n",
       "        <AxesSubplot:xlabel='CHAS  ', ylabel='LSTAT  '>,\n",
       "        <AxesSubplot:xlabel='RM  ', ylabel='LSTAT  '>,\n",
       "        <AxesSubplot:xlabel='ZN   ', ylabel='LSTAT  '>,\n",
       "        <AxesSubplot:xlabel='LSTAT  ', ylabel='LSTAT  '>]], dtype=object)"
      ]
     },
     "execution_count": 22,
     "metadata": {},
     "output_type": "execute_result"
    },
    {
     "data": {
      "image/png": "[encoded data removed]",
      "text/plain": [
       "<Figure size 864x576 with 25 Axes>"
      ]
     },
     "metadata": {
      "needs_background": "light"
     },
     "output_type": "display_data"
    }
   ],
   "source": [
    "from pandas.plotting import scatter_matrix\n",
    "attributes=['MEDV ','CHAS  ','RM  ','ZN   ','LSTAT  ']\n",
    "scatter_matrix(housing[attributes],figsize=(12,8))"
   ]
  },
  {
   "cell_type": "code",
   "execution_count": 23,
   "id": "b5964034",
   "metadata": {},
   "outputs": [
    {
     "data": {
      "text/plain": [
       "<AxesSubplot:xlabel='RM  ', ylabel='MEDV '>"
      ]
     },
     "execution_count": 23,
     "metadata": {},
     "output_type": "execute_result"
    },
    {
     "data": {
      "image/png": "[encoded data removed]",
      "text/plain": [
       "<Figure size 432x288 with 1 Axes>"
      ]
     },
     "metadata": {
      "needs_background": "light"
     },
     "output_type": "display_data"
    }
   ],
   "source": [
    "housing.plot(kind='scatter',x='RM  ',y='MEDV ',alpha=0.8)"
   ]
  },
  {
   "cell_type": "code",
   "execution_count": 24,
   "id": "afb4ef32",
   "metadata": {},
   "outputs": [],
   "source": [
    "#Now we are working for real state so we want them to benefit from our company to make our predictions accurate and on point what we will di is remove outliers from the above graph so we get one path of values free of deviation or outliers to get accurate predictions and our model will read the point nicely as it is one path free of deviations\n",
    "#another point is you have that hrizontal line at 50 our RM IS INcreasing still its on 50 and decreasing still its on 50 u can go back to team ask this reason while here this hsows we dont have value greater than 50\n",
    "#means  a house with room 5 is also 50 and house with 9 rooms too how thats possible so u discuss with ur team maybe there is problemwith data but what we will do is we will remove such outlier values we called it outliers\n"
   ]
  },
  {
   "cell_type": "markdown",
   "id": "78cee8d6",
   "metadata": {},
   "source": [
    "# Trying Attributes Combinations"
   ]
  },
  {
   "cell_type": "code",
   "execution_count": 25,
   "id": "7c4ef821",
   "metadata": {},
   "outputs": [],
   "source": [
    "#We are adding different combinations because the person who collect data is not always perfect so we can try different combinations and add that to our data\n",
    "#for example in TX PER 10000$ PRICE HOME \n",
    "#WE CAN ALSO ADD DATA OF TAX PER ROOM TO OUR DATA BY DIVIDING OUR 10000$ PRICE TAX TO NO OF ROOMS\n",
    "housing['TAXRM']=housing['TAX ']/housing['RM  ']"
   ]
  },
  {
   "cell_type": "code",
   "execution_count": 26,
   "id": "70542d07",
   "metadata": {},
   "outputs": [
    {
     "data": {
      "text/html": [
       "<div>\n",
       "<style scoped>\n",
       "    .dataframe tbody tr th:only-of-type {\n",
       "        vertical-align: middle;\n",
       "    }\n",
       "\n",
       "    .dataframe tbody tr th {\n",
       "        vertical-align: top;\n",
       "    }\n",
       "\n",
       "    .dataframe thead th {\n",
       "        text-align: right;\n",
       "    }\n",
       "</style>\n",
       "<table border=\"1\" class=\"dataframe\">\n",
       "  <thead>\n",
       "    <tr style=\"text-align: right;\">\n",
       "      <th></th>\n",
       "      <th>CRIM</th>\n",
       "      <th>ZN</th>\n",
       "      <th>INDUS</th>\n",
       "      <th>CHAS</th>\n",
       "      <th>NOX</th>\n",
       "      <th>RM</th>\n",
       "      <th>AGE</th>\n",
       "      <th>DIS</th>\n",
       "      <th>RAD</th>\n",
       "      <th>TAX</th>\n",
       "      <th>PTRATIO</th>\n",
       "      <th>B</th>\n",
       "      <th>LSTAT</th>\n",
       "      <th>MEDV</th>\n",
       "      <th>TAXRM</th>\n",
       "    </tr>\n",
       "  </thead>\n",
       "  <tbody>\n",
       "    <tr>\n",
       "      <th>254</th>\n",
       "      <td>0.04819</td>\n",
       "      <td>80.0</td>\n",
       "      <td>3.64</td>\n",
       "      <td>0</td>\n",
       "      <td>0.392</td>\n",
       "      <td>6.108</td>\n",
       "      <td>32.0</td>\n",
       "      <td>9.2203</td>\n",
       "      <td>1</td>\n",
       "      <td>315</td>\n",
       "      <td>16.4</td>\n",
       "      <td>392.89</td>\n",
       "      <td>6.57</td>\n",
       "      <td>21.9</td>\n",
       "      <td>51.571709</td>\n",
       "    </tr>\n",
       "    <tr>\n",
       "      <th>348</th>\n",
       "      <td>0.01501</td>\n",
       "      <td>80.0</td>\n",
       "      <td>2.01</td>\n",
       "      <td>0</td>\n",
       "      <td>0.435</td>\n",
       "      <td>6.635</td>\n",
       "      <td>29.7</td>\n",
       "      <td>8.3440</td>\n",
       "      <td>4</td>\n",
       "      <td>280</td>\n",
       "      <td>17.0</td>\n",
       "      <td>390.94</td>\n",
       "      <td>5.99</td>\n",
       "      <td>24.5</td>\n",
       "      <td>42.200452</td>\n",
       "    </tr>\n",
       "    <tr>\n",
       "      <th>476</th>\n",
       "      <td>4.87141</td>\n",
       "      <td>0.0</td>\n",
       "      <td>18.10</td>\n",
       "      <td>0</td>\n",
       "      <td>0.614</td>\n",
       "      <td>6.484</td>\n",
       "      <td>93.6</td>\n",
       "      <td>2.3053</td>\n",
       "      <td>24</td>\n",
       "      <td>666</td>\n",
       "      <td>20.2</td>\n",
       "      <td>396.21</td>\n",
       "      <td>18.68</td>\n",
       "      <td>16.7</td>\n",
       "      <td>102.714374</td>\n",
       "    </tr>\n",
       "    <tr>\n",
       "      <th>321</th>\n",
       "      <td>0.18159</td>\n",
       "      <td>0.0</td>\n",
       "      <td>7.38</td>\n",
       "      <td>0</td>\n",
       "      <td>0.493</td>\n",
       "      <td>6.376</td>\n",
       "      <td>54.3</td>\n",
       "      <td>4.5404</td>\n",
       "      <td>5</td>\n",
       "      <td>287</td>\n",
       "      <td>19.6</td>\n",
       "      <td>396.90</td>\n",
       "      <td>6.87</td>\n",
       "      <td>23.1</td>\n",
       "      <td>45.012547</td>\n",
       "    </tr>\n",
       "    <tr>\n",
       "      <th>326</th>\n",
       "      <td>0.30347</td>\n",
       "      <td>0.0</td>\n",
       "      <td>7.38</td>\n",
       "      <td>0</td>\n",
       "      <td>0.493</td>\n",
       "      <td>6.312</td>\n",
       "      <td>28.9</td>\n",
       "      <td>5.4159</td>\n",
       "      <td>5</td>\n",
       "      <td>287</td>\n",
       "      <td>19.6</td>\n",
       "      <td>396.90</td>\n",
       "      <td>6.15</td>\n",
       "      <td>23.0</td>\n",
       "      <td>45.468948</td>\n",
       "    </tr>\n",
       "  </tbody>\n",
       "</table>\n",
       "</div>"
      ],
      "text/plain": [
       "      CRIM    ZN     INDUS  CHAS     NOX     RM    AGE      DIS     RAD   \\\n",
       "254  0.04819   80.0   3.64       0   0.392  6.108     32.0  9.2203     1   \n",
       "348  0.01501   80.0   2.01       0   0.435  6.635     29.7  8.3440     4   \n",
       "476  4.87141    0.0  18.10       0   0.614  6.484     93.6  2.3053    24   \n",
       "321  0.18159    0.0   7.38       0   0.493  6.376     54.3  4.5404     5   \n",
       "326  0.30347    0.0   7.38       0   0.493  6.312     28.9  5.4159     5   \n",
       "\n",
       "     TAX    PTRATIO       B   LSTAT    MEDV        TAXRM  \n",
       "254   315       16.4  392.89     6.57   21.9   51.571709  \n",
       "348   280       17.0  390.94     5.99   24.5   42.200452  \n",
       "476   666       20.2  396.21    18.68   16.7  102.714374  \n",
       "321   287       19.6  396.90     6.87   23.1   45.012547  \n",
       "326   287       19.6  396.90     6.15   23.0   45.468948  "
      ]
     },
     "execution_count": 26,
     "metadata": {},
     "output_type": "execute_result"
    }
   ],
   "source": [
    "housing.head()"
   ]
  },
  {
   "cell_type": "code",
   "execution_count": 27,
   "id": "a4bcd447",
   "metadata": {},
   "outputs": [
    {
     "data": {
      "text/plain": [
       "MEDV         1.000000\n",
       "RM           0.679894\n",
       "B            0.361761\n",
       "ZN           0.339741\n",
       "DIS          0.240451\n",
       "CHAS         0.205066\n",
       "AGE         -0.364596\n",
       "RAD         -0.374693\n",
       "CRIM        -0.393715\n",
       " NOX        -0.422873\n",
       "TAX         -0.456657\n",
       "INDUS       -0.473516\n",
       " PTRATIO    -0.493534\n",
       "TAXRM       -0.525160\n",
       "LSTAT       -0.740494\n",
       "Name: MEDV , dtype: float64"
      ]
     },
     "execution_count": 27,
     "metadata": {},
     "output_type": "execute_result"
    }
   ],
   "source": [
    "corr_matrix=housing.corr()\n",
    "corr_matrix['MEDV '].sort_values(ascending=False)"
   ]
  },
  {
   "cell_type": "code",
   "execution_count": 28,
   "id": "2a14c1dd",
   "metadata": {},
   "outputs": [],
   "source": [
    "# A positive correlation exists when one variable decreases as the other variable decreases, or one variable increases while the other increases.\n",
    "#Negative correlation is a relationship between two variables in which one variable increases as the other decreases, and vice versa."
   ]
  },
  {
   "cell_type": "markdown",
   "id": "9cca4617",
   "metadata": {},
   "source": [
    "# Handling Missing Attributes\n"
   ]
  },
  {
   "cell_type": "code",
   "execution_count": 29,
   "id": "2ede7621",
   "metadata": {},
   "outputs": [
    {
     "ename": "SyntaxError",
     "evalue": "invalid syntax (163076061.py, line 2)",
     "output_type": "error",
     "traceback": [
      "\u001b[1;36m  Input \u001b[1;32mIn [29]\u001b[1;36m\u001b[0m\n\u001b[1;33m    But to take care of it we use following options:\u001b[0m\n\u001b[1;37m        ^\u001b[0m\n\u001b[1;31mSyntaxError\u001b[0m\u001b[1;31m:\u001b[0m invalid syntax\n"
     ]
    }
   ],
   "source": [
    "#Although there is no missing values in the data\n",
    "But to take care of it we use following options:\n",
    "    1- Get rid of the missing datapoints\n",
    "    2- Get rid of the whole attribute\n",
    "    3- Set the value to (0,mean,mediian) used when there is lot of data missing\n",
    "USING 'RM' COLUMN AS AN EXAMPLE\n",
    "Option 1:\n",
    "    a=housing.dropna(subset=['RM'])\n",
    "Option 2:\n",
    "    a=housing.drop('RM',axis=1)\n",
    "Option 3:\n",
    "   median=housing['RM'].median()\n",
    "   houing['RM'].fillna(median)#fillna means fill the value which are missing with median\n",
    "    "
   ]
  },
  {
   "cell_type": "code",
   "execution_count": 30,
   "id": "5810c601",
   "metadata": {},
   "outputs": [
    {
     "data": {
      "text/plain": [
       "\"from sklearn.impute import SimpleImputer\\nimputer=SimpleImputer(strategy='median')\\nimputer.fit(housing)#now fitting the dataset in imputer\""
      ]
     },
     "execution_count": 30,
     "metadata": {},
     "output_type": "execute_result"
    }
   ],
   "source": [
    "#above i did the manual work by taking out the median of RM THEN FILLING it in the empty spaces of RM COLUMN BY fillna function \n",
    "#With sklearn we can do that work by simply using IMPUTER\n",
    "\"\"\"from sklearn.impute import SimpleImputer\n",
    "imputer=SimpleImputer(strategy='median')\n",
    "imputer.fit(housing)#now fitting the dataset in imputer\"\"\""
   ]
  },
  {
   "cell_type": "code",
   "execution_count": 31,
   "id": "1f8419fe",
   "metadata": {},
   "outputs": [],
   "source": [
    "#to see the values it calculated imputer\n",
    "#imputer.statistics_   #imputer takes out the missing value in each column"
   ]
  },
  {
   "cell_type": "code",
   "execution_count": 32,
   "id": "54553e64",
   "metadata": {},
   "outputs": [],
   "source": [
    "#Now fitting the median strategy values that imputer taken out in to dataset\n",
    "#x=imputer.transform(housing)"
   ]
  },
  {
   "cell_type": "code",
   "execution_count": 33,
   "id": "87d55ca1",
   "metadata": {},
   "outputs": [],
   "source": [
    "#housing_tr=pd.DataFrame(x,columns=housing.columns)\n",
    "#housing_tr.describe()"
   ]
  },
  {
   "cell_type": "code",
   "execution_count": 56,
   "id": "473461c6",
   "metadata": {},
   "outputs": [],
   "source": [
    "#IN this dataset i have done all the work on actual dataset not on trainset because its already quite small dataset so corelation will be difficult to find out\n",
    "#but when there is a large dataset what you have to do is, after you traintest split the data ,copy the training data in a variable then do all the above steps in that training data instead od actual data you have to \n",
    "#write simple this after train-test split step\n",
    "housing=strat_train_set.copy() #after i did it with training the valuecount chnages to 404 from 506 means there are 404 values in training data"
   ]
  },
  {
   "cell_type": "markdown",
   "id": "383cf249",
   "metadata": {},
   "source": [
    "# SK-LEARN DESIGN"
   ]
  },
  {
   "cell_type": "markdown",
   "id": "860580f7",
   "metadata": {},
   "source": [
    "Primarily,there are three type of objects:\n",
    "    1)Estimaors-It estimates some parameter based on a dataset , Eg,Imputer\n",
    "       It has a fit method and transform method Fit method-Fits the dataset and calculates internal parameter.\n",
    "    2)Transformer- transform method takes input return output based on learning from fit method. It also has a conveniance function called fit_transform()\n",
    "                   which fits and then transform\n",
    "    3) Predictor- LinearRegressionModel is an example of predictor, fit and predict are twp common functions.It also give score\n",
    "                   functins which will evaluate the predictions"
   ]
  },
  {
   "cell_type": "markdown",
   "id": "f854d818",
   "metadata": {},
   "source": [
    "# Feature Scaling"
   ]
  },
  {
   "cell_type": "code",
   "execution_count": null,
   "id": "e8d71cf2",
   "metadata": {},
   "outputs": [],
   "source": [
    "Feature Scaling means you want all your columns values in a certain value range but its not possible everytime so we use normalization and standardization\n",
    "Two types:\n",
    "    1) Min-max scaling (Normalization)\n",
    "    Normalization Formula((value-min)/(max-min)) to \n",
    "    there is also sklearn library to do it MinMaxScalar\n",
    "   \n",
    "    2) Standardization- (value-mean)/std  (formula)\n",
    "                         sklearn library- Standard Scalar "
   ]
  },
  {
   "cell_type": "markdown",
   "id": "72f7772b",
   "metadata": {},
   "source": [
    "# CREATING A PIPELINE IN SKLEARN"
   ]
  },
  {
   "cell_type": "code",
   "execution_count": 59,
   "id": "3f7e5947",
   "metadata": {},
   "outputs": [],
   "source": [
    "#Pipeline should be made before doing all the above work we did for eg imputer should be set before in a pipeline\n",
    "#How pipeline Works?\n",
    "#what it will do it will do first imputing apply its fit transform function then pass it to other function then it will aslo do same then at the end there will be only fit but you can also transform seperately but at the end it will fir and it give u final numpy array\n",
    "from sklearn.pipeline import Pipeline\n",
    "from sklearn.preprocessing import StandardScaler\n",
    "from sklearn.impute import SimpleImputer\n",
    "my_pipeline=Pipeline([\n",
    "    ('imputer',SimpleImputer(strategy='median')),\n",
    "    #add many as you wnat in your pipeline\n",
    "    ('std_scalar',StandardScaler()),\n",
    "])\n"
   ]
  },
  {
   "cell_type": "code",
   "execution_count": 60,
   "id": "4f7482e6",
   "metadata": {},
   "outputs": [],
   "source": [
    "housing_num_tr=my_pipeline.fit_transform(housing)"
   ]
  },
  {
   "cell_type": "code",
   "execution_count": 61,
   "id": "8747b528",
   "metadata": {},
   "outputs": [
    {
     "data": {
      "text/plain": [
       "array([[-0.43942006,  3.12628155, -1.12165014, ...,  0.41164221,\n",
       "        -0.86091034, -0.06501087],\n",
       "       [-0.44352175,  3.12628155, -1.35893781, ...,  0.39131918,\n",
       "        -0.94116739,  0.21235476],\n",
       "       [ 0.15682292, -0.4898311 ,  0.98336806, ...,  0.44624347,\n",
       "         0.81480158, -0.61974213],\n",
       "       ...,\n",
       "       [-0.43525657, -0.4898311 , -1.23083158, ...,  0.41831233,\n",
       "        -1.27603303,  2.27126115],\n",
       "       [ 0.14210728, -0.4898311 ,  0.98336806, ..., -3.15239177,\n",
       "         0.73869575, -0.89710776],\n",
       "       [-0.43974024, -0.4898311 ,  0.37049623, ...,  0.41070422,\n",
       "         0.09940681,  0.08433985]])"
      ]
     },
     "execution_count": 61,
     "metadata": {},
     "output_type": "execute_result"
    }
   ],
   "source": [
    "housing_num_tr"
   ]
  },
  {
   "cell_type": "markdown",
   "id": "8a145741",
   "metadata": {},
   "source": [
    "# Select A desired Model For Dragon Real Estate "
   ]
  },
  {
   "cell_type": "code",
   "execution_count": 62,
   "id": "f9bb288f",
   "metadata": {},
   "outputs": [
    {
     "data": {
      "text/plain": [
       "RandomForestRegressor()"
      ]
     },
     "execution_count": 62,
     "metadata": {},
     "output_type": "execute_result"
    }
   ],
   "source": [
    "from sklearn.linear_model import LinearRegression\n",
    "from sklearn.tree import DecisionTreeRegressor\n",
    "from sklearn.ensemble import RandomForestRegressor\n",
    "x=housing.drop('MEDV ',axis=1)\n",
    "y=housing['MEDV '].copy()\n",
    "\n",
    "model=RandomForestRegressor()\n",
    "#model=DecisionTreeRegressor()\n",
    "#model=LinearRegression()\n",
    "model.fit(x,y)"
   ]
  },
  {
   "cell_type": "code",
   "execution_count": 63,
   "id": "845fac7a",
   "metadata": {},
   "outputs": [
    {
     "data": {
      "text/plain": [
       "[22.275000000000027,\n",
       " 25.331999999999997,\n",
       " 16.594000000000023,\n",
       " 23.49699999999997,\n",
       " 23.523999999999997,\n",
       " 16.086000000000016,\n",
       " 24.59700000000003,\n",
       " 26.234000000000005,\n",
       " 10.202999999999996,\n",
       " 31.627999999999957,\n",
       " 15.635999999999985,\n",
       " 18.520999999999983,\n",
       " 10.926000000000009,\n",
       " 34.24200000000005,\n",
       " 22.969,\n",
       " 13.939000000000004,\n",
       " 18.779000000000018,\n",
       " 17.118999999999982,\n",
       " 7.1770000000000085,\n",
       " 20.355,\n",
       " 18.84299999999997,\n",
       " 16.807000000000023,\n",
       " 18.08000000000002,\n",
       " 27.612999999999992,\n",
       " 24.404000000000032,\n",
       " 24.653000000000006,\n",
       " 13.636000000000015,\n",
       " 21.01200000000002,\n",
       " 14.98899999999999,\n",
       " 27.657000000000004,\n",
       " 14.857999999999995,\n",
       " 18.09799999999999,\n",
       " 11.418999999999983,\n",
       " 12.918999999999984,\n",
       " 20.804000000000023,\n",
       " 27.396999999999966,\n",
       " 23.40100000000002,\n",
       " 47.88900000000002,\n",
       " 32.55099999999995,\n",
       " 20.271000000000026,\n",
       " 21.924000000000024,\n",
       " 34.569000000000045,\n",
       " 36.96000000000003,\n",
       " 9.36099999999999,\n",
       " 20.101999999999972,\n",
       " 12.643999999999984,\n",
       " 21.31200000000001,\n",
       " 28.404,\n",
       " 22.99600000000001,\n",
       " 7.6819999999999995,\n",
       " 24.65300000000001,\n",
       " 22.96499999999999,\n",
       " 23.975,\n",
       " 30.504999999999978,\n",
       " 14.722999999999983,\n",
       " 37.70800000000004,\n",
       " 21.575000000000024,\n",
       " 25.21700000000003,\n",
       " 33.25700000000005,\n",
       " 17.39999999999998,\n",
       " 20.039000000000005,\n",
       " 19.895000000000014,\n",
       " 27.665000000000028,\n",
       " 20.877999999999997,\n",
       " 14.40399999999998,\n",
       " 31.733999999999966,\n",
       " 49.543,\n",
       " 14.614999999999998,\n",
       " 26.680999999999973,\n",
       " 34.906000000000034,\n",
       " 22.617000000000004,\n",
       " 36.167,\n",
       " 23.320000000000032,\n",
       " 10.107999999999993,\n",
       " 20.680999999999987,\n",
       " 27.84200000000002,\n",
       " 25.813999999999997,\n",
       " 15.058000000000014,\n",
       " 16.375999999999987,\n",
       " 18.821000000000005,\n",
       " 30.586999999999968,\n",
       " 8.354,\n",
       " 19.402999999999984,\n",
       " 18.74800000000002,\n",
       " 25.659000000000002,\n",
       " 23.066999999999993,\n",
       " 30.43399999999999,\n",
       " 25.129,\n",
       " 29.361000000000022,\n",
       " 16.23200000000002,\n",
       " 23.049000000000024,\n",
       " 30.516999999999967,\n",
       " 28.05200000000003,\n",
       " 20.081000000000024,\n",
       " 21.468000000000014,\n",
       " 34.16600000000005,\n",
       " 29.362000000000037,\n",
       " 19.411000000000005,\n",
       " 23.165000000000006,\n",
       " 16.979999999999983,\n",
       " 12.692,\n",
       " 46.03500000000002,\n",
       " 20.268999999999984,\n",
       " 43.25700000000006,\n",
       " 17.22,\n",
       " 15.94299999999999,\n",
       " 19.96299999999999,\n",
       " 21.722000000000012,\n",
       " 27.181999999999974,\n",
       " 16.97499999999998,\n",
       " 16.865999999999996,\n",
       " 7.888000000000003,\n",
       " 14.628999999999992,\n",
       " 20.81199999999999,\n",
       " 11.331999999999987,\n",
       " 18.97799999999999,\n",
       " 13.611999999999991,\n",
       " 36.19899999999996,\n",
       " 24.782999999999994,\n",
       " 15.276000000000018,\n",
       " 22.395999999999987,\n",
       " 8.225,\n",
       " 8.61099999999999,\n",
       " 19.535999999999973,\n",
       " 23.84199999999997,\n",
       " 14.211999999999989,\n",
       " 16.04599999999998,\n",
       " 24.265,\n",
       " 11.951000000000011,\n",
       " 21.590000000000003,\n",
       " 23.161000000000026,\n",
       " 12.924999999999981,\n",
       " 17.586999999999975,\n",
       " 12.19,\n",
       " 46.559000000000005,\n",
       " 17.86699999999998,\n",
       " 23.98,\n",
       " 23.43200000000003,\n",
       " 21.696000000000005,\n",
       " 48.755,\n",
       " 14.872000000000016,\n",
       " 21.94499999999998,\n",
       " 27.81299999999996,\n",
       " 19.263999999999978,\n",
       " 32.74999999999999,\n",
       " 17.87299999999998,\n",
       " 21.081000000000007,\n",
       " 18.980000000000004,\n",
       " 20.448000000000015,\n",
       " 8.855999999999993,\n",
       " 23.918000000000006,\n",
       " 15.493999999999987,\n",
       " 35.61000000000001,\n",
       " 16.514000000000006,\n",
       " 25.959999999999983,\n",
       " 13.793000000000008,\n",
       " 18.369999999999983,\n",
       " 19.85100000000002,\n",
       " 24.287999999999997,\n",
       " 19.35099999999998,\n",
       " 25.048000000000005,\n",
       " 24.690999999999978,\n",
       " 28.199999999999964,\n",
       " 19.34000000000003,\n",
       " 47.53100000000007,\n",
       " 14.684999999999988,\n",
       " 24.09599999999997,\n",
       " 47.034,\n",
       " 26.102999999999984,\n",
       " 23.778,\n",
       " 20.40800000000002,\n",
       " 27.23599999999999,\n",
       " 43.970000000000034,\n",
       " 22.605999999999995,\n",
       " 22.208000000000013,\n",
       " 23.631999999999998,\n",
       " 14.212999999999987,\n",
       " 24.88799999999999,\n",
       " 8.72500000000001,\n",
       " 18.81399999999998,\n",
       " 40.314999999999976,\n",
       " 14.560000000000008,\n",
       " 21.172000000000015,\n",
       " 29.383000000000035,\n",
       " 21.846000000000007,\n",
       " 26.655999999999995,\n",
       " 20.25,\n",
       " 27.81599999999998,\n",
       " 21.160999999999973,\n",
       " 30.909999999999986,\n",
       " 21.366999999999997,\n",
       " 30.468000000000004,\n",
       " 21.916999999999998,\n",
       " 23.970000000000006,\n",
       " 16.080000000000013,\n",
       " 11.839999999999998,\n",
       " 32.764,\n",
       " 30.642999999999997,\n",
       " 33.96500000000003,\n",
       " 23.473999999999993,\n",
       " 17.939999999999973,\n",
       " 49.26200000000001,\n",
       " 19.42900000000002,\n",
       " 21.696000000000012,\n",
       " 28.430000000000028,\n",
       " 17.412000000000017,\n",
       " 14.001000000000003,\n",
       " 22.584999999999987,\n",
       " 22.149,\n",
       " 12.78800000000001,\n",
       " 26.709000000000046,\n",
       " 17.397999999999996,\n",
       " 22.828999999999972,\n",
       " 45.84499999999999,\n",
       " 22.159000000000024,\n",
       " 33.867999999999974,\n",
       " 15.334000000000009,\n",
       " 27.572999999999965,\n",
       " 14.535000000000007,\n",
       " 10.480999999999993,\n",
       " 21.945999999999966,\n",
       " 19.848999999999975,\n",
       " 19.37300000000002,\n",
       " 19.020000000000024,\n",
       " 19.17599999999998,\n",
       " 13.824999999999983,\n",
       " 10.39900000000001,\n",
       " 21.776000000000025,\n",
       " 20.01199999999998,\n",
       " 20.029999999999976,\n",
       " 18.49799999999998,\n",
       " 23.25999999999999,\n",
       " 23.960999999999995,\n",
       " 16.673999999999996,\n",
       " 25.372000000000018,\n",
       " 34.60100000000004,\n",
       " 19.976000000000017,\n",
       " 9.907000000000009,\n",
       " 13.643999999999995,\n",
       " 20.806999999999967,\n",
       " 13.586999999999989,\n",
       " 9.251999999999988,\n",
       " 31.409000000000002,\n",
       " 18.362,\n",
       " 21.240999999999975,\n",
       " 21.06800000000003,\n",
       " 22.83499999999997,\n",
       " 23.18800000000003,\n",
       " 24.675999999999995,\n",
       " 30.43099999999996,\n",
       " 12.216999999999983,\n",
       " 21.099999999999987,\n",
       " 20.00699999999998,\n",
       " 21.27299999999998,\n",
       " 19.847999999999978,\n",
       " 16.513999999999974,\n",
       " 48.56200000000002,\n",
       " 48.90600000000001,\n",
       " 19.54799999999998,\n",
       " 11.487000000000002,\n",
       " 14.307999999999982,\n",
       " 44.97100000000001,\n",
       " 25.515999999999977,\n",
       " 9.691000000000008,\n",
       " 46.165000000000006,\n",
       " 14.116000000000012,\n",
       " 46.461999999999996,\n",
       " 23.46900000000002,\n",
       " 26.673999999999996,\n",
       " 17.531000000000017,\n",
       " 34.78400000000004,\n",
       " 22.051999999999985,\n",
       " 19.48499999999998,\n",
       " 21.645000000000003,\n",
       " 22.302999999999976,\n",
       " 32.22700000000003,\n",
       " 14.411000000000003,\n",
       " 12.260000000000018,\n",
       " 19.958999999999975,\n",
       " 33.586000000000034,\n",
       " 17.47399999999998,\n",
       " 22.499000000000002,\n",
       " 17.55499999999998,\n",
       " 31.503999999999973,\n",
       " 35.481000000000044,\n",
       " 23.584999999999976,\n",
       " 21.455,\n",
       " 10.419,\n",
       " 22.65099999999997,\n",
       " 46.17700000000004,\n",
       " 23.78799999999998,\n",
       " 11.001999999999988,\n",
       " 11.514,\n",
       " 13.566000000000013,\n",
       " 15.921000000000015,\n",
       " 20.284999999999997,\n",
       " 14.937999999999983,\n",
       " 42.415000000000035,\n",
       " 15.377999999999986,\n",
       " 47.90700000000002,\n",
       " 20.935000000000006,\n",
       " 22.033000000000012,\n",
       " 44.89199999999995,\n",
       " 34.535999999999966,\n",
       " 21.716000000000008,\n",
       " 8.005999999999991,\n",
       " 8.054999999999993,\n",
       " 23.453999999999994,\n",
       " 19.97900000000002,\n",
       " 20.67100000000002,\n",
       " 17.298999999999975,\n",
       " 27.77200000000003,\n",
       " 19.609999999999996,\n",
       " 21.102000000000007,\n",
       " 23.90500000000001,\n",
       " 24.76499999999997,\n",
       " 35.30399999999997,\n",
       " 28.929999999999986,\n",
       " 43.736000000000004,\n",
       " 21.531000000000017,\n",
       " 17.72,\n",
       " 20.235999999999976,\n",
       " 20.723999999999986,\n",
       " 16.731999999999978,\n",
       " 21.865999999999975,\n",
       " 48.007000000000005,\n",
       " 20.293000000000003,\n",
       " 17.721999999999984,\n",
       " 24.072,\n",
       " 16.90999999999999,\n",
       " 35.014999999999965,\n",
       " 18.809,\n",
       " 19.485999999999986,\n",
       " 20.144,\n",
       " 24.034000000000013,\n",
       " 10.117999999999986,\n",
       " 21.05800000000003,\n",
       " 19.272000000000016,\n",
       " 17.690999999999995,\n",
       " 18.00300000000002,\n",
       " 18.463,\n",
       " 18.921000000000017,\n",
       " 12.696000000000002,\n",
       " 23.044999999999973,\n",
       " 25.081000000000035,\n",
       " 17.08700000000001,\n",
       " 18.760000000000026,\n",
       " 19.137999999999998,\n",
       " 14.41200000000001,\n",
       " 20.290999999999976,\n",
       " 20.95200000000002,\n",
       " 14.614000000000017,\n",
       " 23.687999999999967,\n",
       " 21.662000000000013,\n",
       " 19.337999999999997,\n",
       " 22.09300000000002,\n",
       " 20.586000000000023,\n",
       " 29.925000000000033,\n",
       " 20.081999999999997,\n",
       " 22.118999999999975,\n",
       " 17.683000000000014,\n",
       " 13.811000000000002,\n",
       " 14.037999999999979,\n",
       " 25.357,\n",
       " 34.936,\n",
       " 46.97,\n",
       " 21.89499999999997,\n",
       " 18.78700000000002,\n",
       " 23.566000000000034,\n",
       " 18.83100000000002,\n",
       " 13.30599999999999,\n",
       " 29.885999999999996,\n",
       " 23.31500000000002,\n",
       " 46.458,\n",
       " 14.63899999999998,\n",
       " 14.569999999999995,\n",
       " 20.440000000000012,\n",
       " 8.341999999999988,\n",
       " 22.73,\n",
       " 18.817000000000014,\n",
       " 40.68999999999997,\n",
       " 28.386999999999976,\n",
       " 17.98900000000002,\n",
       " 13.776999999999996,\n",
       " 13.098000000000003,\n",
       " 19.827999999999978,\n",
       " 39.45900000000005,\n",
       " 24.99899999999999,\n",
       " 33.41599999999996,\n",
       " 19.080000000000027,\n",
       " 24.215000000000014,\n",
       " 9.361999999999998,\n",
       " 8.775999999999994,\n",
       " 16.216000000000008,\n",
       " 14.893000000000008,\n",
       " 26.133000000000003,\n",
       " 32.587999999999965,\n",
       " 6.5280000000000005,\n",
       " 20.965999999999973,\n",
       " 15.857999999999988,\n",
       " 13.362000000000002,\n",
       " 43.66400000000006,\n",
       " 14.309999999999992,\n",
       " 22.701]"
      ]
     },
     "execution_count": 63,
     "metadata": {},
     "output_type": "execute_result"
    }
   ],
   "source": [
    "xdata=x.iloc[0:5]\n",
    "predicted=model.predict(x)\n",
    "list(predicted)"
   ]
  },
  {
   "cell_type": "markdown",
   "id": "9cc2b87f",
   "metadata": {},
   "source": [
    "# Evaluating The Model"
   ]
  },
  {
   "cell_type": "code",
   "execution_count": 64,
   "id": "ad4e72db",
   "metadata": {},
   "outputs": [
    {
     "name": "stdout",
     "output_type": "stream",
     "text": [
      "1.4884924628712852\n",
      "1.220037894030872\n"
     ]
    }
   ],
   "source": [
    "from sklearn.metrics import mean_squared_error\n",
    "mse=mean_squared_error(predicted,y)\n",
    "rmse=np.sqrt(mse)#root mean square error\n",
    "print(mse)\n",
    "print(rmse) # value is 0 Model is overfitting means it has fit the training set so accurately even a small noise is taken as ainput "
   ]
  },
  {
   "cell_type": "markdown",
   "id": "2276a0c9",
   "metadata": {},
   "source": [
    "# Using better evaluation- Cross Validation\n"
   ]
  },
  {
   "cell_type": "code",
   "execution_count": 65,
   "id": "bf99a7e9",
   "metadata": {},
   "outputs": [],
   "source": [
    "#for eg 1 2 3 4 5 6 7 8 groups in cross val it will first train on 2-8 and validate on 1 then skip 2 take from 3 than train from 3-8 aafter it validate it with 1 and 2 andso on and in the end it will take out all errors and we can takeout mean,std of it also\n",
    "from sklearn.model_selection import cross_val_score\n",
    "scores=cross_val_score(model,housing_num_tr,y,scoring=\"neg_mean_squared_error\",cv=10) #cv=10 means means we want 10 folds\n",
    "rmse_scores=np.sqrt(-scores)"
   ]
  },
  {
   "cell_type": "code",
   "execution_count": 66,
   "id": "687cb123",
   "metadata": {},
   "outputs": [
    {
     "data": {
      "text/plain": [
       "array([0.20204032, 0.21486121, 0.21364673, 0.14160293, 0.13016682,\n",
       "       0.15076422, 0.16218678, 0.36453367, 0.06138892, 0.42486927])"
      ]
     },
     "execution_count": 66,
     "metadata": {},
     "output_type": "execute_result"
    }
   ],
   "source": [
    "rmse_scores"
   ]
  },
  {
   "cell_type": "code",
   "execution_count": 67,
   "id": "cc1e57ac",
   "metadata": {},
   "outputs": [
    {
     "name": "stdout",
     "output_type": "stream",
     "text": [
      "[0.20204032 0.21486121 0.21364673 0.14160293 0.13016682 0.15076422\n",
      " 0.16218678 0.36453367 0.06138892 0.42486927]\n",
      "MEAN 0.20660608879591918\n",
      "STD 0.10438692060984017\n"
     ]
    }
   ],
   "source": [
    "def print_scores(scores):\n",
    "    print(scores)\n",
    "    print(\"MEAN\",scores.mean())\n",
    "    print(\"STD\",scores.std())\n",
    "print_scores(rmse_scores)"
   ]
  },
  {
   "cell_type": "code",
   "execution_count": 43,
   "id": "69d195b8",
   "metadata": {},
   "outputs": [
    {
     "ename": "SyntaxError",
     "evalue": "invalid syntax (992864469.py, line 1)",
     "output_type": "error",
     "traceback": [
      "\u001b[1;36m  Input \u001b[1;32mIn [43]\u001b[1;36m\u001b[0m\n\u001b[1;33m    Random Forest Regressor Score Mean And Std\u001b[0m\n\u001b[1;37m           ^\u001b[0m\n\u001b[1;31mSyntaxError\u001b[0m\u001b[1;31m:\u001b[0m invalid syntax\n"
     ]
    }
   ],
   "source": [
    "Random Forest Regressor Score Mean And Std\n",
    "MEAN 0.20439108227295102\n",
    "STD 0.09553382876506368\n",
    "Decision Tree Regressor Score Mean and Std\n",
    "MEAN 0.389773874213055\n",
    "STD 0.21030781193629874\n",
    "\n",
    "So Random Forest is the model selected as its is performing best out of all"
   ]
  },
  {
   "cell_type": "markdown",
   "id": "d562d6f9",
   "metadata": {},
   "source": [
    "# Saving The Model"
   ]
  },
  {
   "cell_type": "code",
   "execution_count": 68,
   "id": "60a2c81e",
   "metadata": {},
   "outputs": [
    {
     "data": {
      "text/plain": [
       "['Dragon.joblib']"
      ]
     },
     "execution_count": 68,
     "metadata": {},
     "output_type": "execute_result"
    }
   ],
   "source": [
    "from joblib import dump, load\n",
    "dump(model,'Dragon.joblib')"
   ]
  },
  {
   "cell_type": "markdown",
   "id": "e80954a0",
   "metadata": {},
   "source": [
    "# Testing The Model"
   ]
  },
  {
   "cell_type": "code",
   "execution_count": 69,
   "id": "d7d08763",
   "metadata": {},
   "outputs": [
    {
     "name": "stdout",
     "output_type": "stream",
     "text": [
      "1.4884924628712852\n",
      "1.6757570487020241\n"
     ]
    }
   ],
   "source": [
    "#eVALUATING THE MODEL ON TEST-DATA\n",
    "import numpy as np\n",
    "from sklearn.metrics import mean_squared_error\n",
    "x_test=strat_test_set.drop(\"MEDV \",axis=1)\n",
    "y_test=strat_test_set['MEDV '].copy()\n",
    "model.fit(x_test,y_test)\n",
    "finalprediction=model.predict(x_test)\n",
    "finalmse=mean_squared_error(y_test,finalprediction)\n",
    "finalrmse=np.sqrt(finalmse)\n",
    "print(mse)\n",
    "print(finalrmse)"
   ]
  },
  {
   "cell_type": "code",
   "execution_count": 70,
   "id": "ba52d419",
   "metadata": {},
   "outputs": [
    {
     "name": "stdout",
     "output_type": "stream",
     "text": [
      "[19.597 10.646 28.35  23.441 14.964 15.986 19.557 14.651 31.828 38.478\n",
      " 21.362 11.718 24.137 24.147 19.68  11.161 32.003 14.336 23.739 20.034\n",
      " 19.308 18.914 15.614 22.855 20.066 29.014 16.52  30.51   8.828 34.012\n",
      " 20.912 21.021 23.307 12.326 23.723 15.059 41.331 24.295 22.69  42.488\n",
      " 26.042 32.215 20.981 22.752 18.731 31.375 43.128 19.457 20.03  21.668\n",
      " 21.01  13.806 20.206 16.609 26.133 32.31  45.058 28.502 18.977 20.094\n",
      " 46.065  8.92  18.714 29.711 15.177 34.822 23.114 19.527 20.689 36.217\n",
      " 25.446 22.371 23.817 21.334 34.06   8.968 18.74  20.508 20.66  21.137\n",
      " 22.308 16.121 15.209 21.898 20.098 22.499 17.577 21.924 19.218 23.317\n",
      " 19.593 27.691  7.131 24.638 20.738 26.876 21.774 27.301 18.458 25.181\n",
      " 22.085 20.15 ] [16.5, 10.2, 30.1, 23.0, 14.4, 15.6, 19.4, 14.1, 30.3, 35.2, 23.1, 13.8, 25.0, 27.9, 19.5, 12.3, 32.2, 13.5, 23.8, 21.7, 19.2, 19.5, 10.4, 23.2, 18.6, 28.5, 15.2, 32.0, 7.2, 34.6, 20.1, 20.6, 23.6, 13.1, 23.8, 12.7, 43.1, 24.7, 22.2, 44.0, 28.1, 31.0, 21.7, 23.4, 19.5, 33.1, 41.7, 18.7, 19.9, 20.6, 21.2, 13.6, 20.3, 17.8, 27.1, 31.5, 50.0, 29.1, 18.9, 20.4, 50.0, 7.2, 17.2, 36.2, 14.6, 33.2, 23.8, 19.9, 21.5, 37.3, 27.0, 22.0, 24.3, 19.8, 33.3, 7.0, 19.4, 20.9, 21.1, 20.4, 22.2, 11.9, 11.7, 21.6, 19.7, 23.0, 16.7, 21.7, 20.6, 23.3, 19.6, 28.0, 5.0, 24.4, 20.8, 24.8, 21.8, 23.6, 19.0, 25.0, 20.3, 21.5]\n"
     ]
    }
   ],
   "source": [
    "print(finalprediction,list(y_test))"
   ]
  },
  {
   "cell_type": "code",
   "execution_count": 71,
   "id": "31a1e7ae",
   "metadata": {},
   "outputs": [
    {
     "data": {
      "text/html": [
       "<div>\n",
       "<style scoped>\n",
       "    .dataframe tbody tr th:only-of-type {\n",
       "        vertical-align: middle;\n",
       "    }\n",
       "\n",
       "    .dataframe tbody tr th {\n",
       "        vertical-align: top;\n",
       "    }\n",
       "\n",
       "    .dataframe thead th {\n",
       "        text-align: right;\n",
       "    }\n",
       "</style>\n",
       "<table border=\"1\" class=\"dataframe\">\n",
       "  <thead>\n",
       "    <tr style=\"text-align: right;\">\n",
       "      <th></th>\n",
       "      <th>CRIM</th>\n",
       "      <th>ZN</th>\n",
       "      <th>INDUS</th>\n",
       "      <th>CHAS</th>\n",
       "      <th>NOX</th>\n",
       "      <th>RM</th>\n",
       "      <th>AGE</th>\n",
       "      <th>DIS</th>\n",
       "      <th>RAD</th>\n",
       "      <th>TAX</th>\n",
       "      <th>PTRATIO</th>\n",
       "      <th>B</th>\n",
       "      <th>LSTAT</th>\n",
       "    </tr>\n",
       "  </thead>\n",
       "  <tbody>\n",
       "    <tr>\n",
       "      <th>342</th>\n",
       "      <td>0.02498</td>\n",
       "      <td>0.0</td>\n",
       "      <td>1.89</td>\n",
       "      <td>0</td>\n",
       "      <td>0.518</td>\n",
       "      <td>6.540</td>\n",
       "      <td>59.7</td>\n",
       "      <td>6.2669</td>\n",
       "      <td>1</td>\n",
       "      <td>422</td>\n",
       "      <td>15.9</td>\n",
       "      <td>389.96</td>\n",
       "      <td>8.65</td>\n",
       "    </tr>\n",
       "    <tr>\n",
       "      <th>379</th>\n",
       "      <td>17.86670</td>\n",
       "      <td>0.0</td>\n",
       "      <td>18.10</td>\n",
       "      <td>0</td>\n",
       "      <td>0.671</td>\n",
       "      <td>6.223</td>\n",
       "      <td>100.0</td>\n",
       "      <td>1.3861</td>\n",
       "      <td>24</td>\n",
       "      <td>666</td>\n",
       "      <td>20.2</td>\n",
       "      <td>393.74</td>\n",
       "      <td>21.78</td>\n",
       "    </tr>\n",
       "    <tr>\n",
       "      <th>223</th>\n",
       "      <td>0.61470</td>\n",
       "      <td>0.0</td>\n",
       "      <td>6.20</td>\n",
       "      <td>0</td>\n",
       "      <td>0.507</td>\n",
       "      <td>6.618</td>\n",
       "      <td>80.8</td>\n",
       "      <td>3.2721</td>\n",
       "      <td>8</td>\n",
       "      <td>307</td>\n",
       "      <td>17.4</td>\n",
       "      <td>396.90</td>\n",
       "      <td>7.60</td>\n",
       "    </tr>\n",
       "    <tr>\n",
       "      <th>219</th>\n",
       "      <td>0.11425</td>\n",
       "      <td>0.0</td>\n",
       "      <td>13.89</td>\n",
       "      <td>1</td>\n",
       "      <td>0.550</td>\n",
       "      <td>6.373</td>\n",
       "      <td>92.4</td>\n",
       "      <td>3.3633</td>\n",
       "      <td>5</td>\n",
       "      <td>276</td>\n",
       "      <td>16.4</td>\n",
       "      <td>393.74</td>\n",
       "      <td>10.50</td>\n",
       "    </tr>\n",
       "    <tr>\n",
       "      <th>48</th>\n",
       "      <td>0.25387</td>\n",
       "      <td>0.0</td>\n",
       "      <td>6.91</td>\n",
       "      <td>0</td>\n",
       "      <td>0.448</td>\n",
       "      <td>5.399</td>\n",
       "      <td>95.3</td>\n",
       "      <td>5.8700</td>\n",
       "      <td>3</td>\n",
       "      <td>233</td>\n",
       "      <td>17.9</td>\n",
       "      <td>396.90</td>\n",
       "      <td>30.81</td>\n",
       "    </tr>\n",
       "    <tr>\n",
       "      <th>...</th>\n",
       "      <td>...</td>\n",
       "      <td>...</td>\n",
       "      <td>...</td>\n",
       "      <td>...</td>\n",
       "      <td>...</td>\n",
       "      <td>...</td>\n",
       "      <td>...</td>\n",
       "      <td>...</td>\n",
       "      <td>...</td>\n",
       "      <td>...</td>\n",
       "      <td>...</td>\n",
       "      <td>...</td>\n",
       "      <td>...</td>\n",
       "    </tr>\n",
       "    <tr>\n",
       "      <th>88</th>\n",
       "      <td>0.05660</td>\n",
       "      <td>0.0</td>\n",
       "      <td>3.41</td>\n",
       "      <td>0</td>\n",
       "      <td>0.489</td>\n",
       "      <td>7.007</td>\n",
       "      <td>86.3</td>\n",
       "      <td>3.4217</td>\n",
       "      <td>2</td>\n",
       "      <td>270</td>\n",
       "      <td>17.8</td>\n",
       "      <td>396.90</td>\n",
       "      <td>5.50</td>\n",
       "    </tr>\n",
       "    <tr>\n",
       "      <th>466</th>\n",
       "      <td>3.77498</td>\n",
       "      <td>0.0</td>\n",
       "      <td>18.10</td>\n",
       "      <td>0</td>\n",
       "      <td>0.655</td>\n",
       "      <td>5.952</td>\n",
       "      <td>84.7</td>\n",
       "      <td>2.8715</td>\n",
       "      <td>24</td>\n",
       "      <td>666</td>\n",
       "      <td>20.2</td>\n",
       "      <td>22.01</td>\n",
       "      <td>17.15</td>\n",
       "    </tr>\n",
       "    <tr>\n",
       "      <th>52</th>\n",
       "      <td>0.05360</td>\n",
       "      <td>21.0</td>\n",
       "      <td>5.64</td>\n",
       "      <td>0</td>\n",
       "      <td>0.439</td>\n",
       "      <td>6.511</td>\n",
       "      <td>21.1</td>\n",
       "      <td>6.8147</td>\n",
       "      <td>4</td>\n",
       "      <td>243</td>\n",
       "      <td>16.8</td>\n",
       "      <td>396.90</td>\n",
       "      <td>5.28</td>\n",
       "    </tr>\n",
       "    <tr>\n",
       "      <th>121</th>\n",
       "      <td>0.07165</td>\n",
       "      <td>0.0</td>\n",
       "      <td>25.65</td>\n",
       "      <td>0</td>\n",
       "      <td>0.581</td>\n",
       "      <td>6.004</td>\n",
       "      <td>84.1</td>\n",
       "      <td>2.1974</td>\n",
       "      <td>2</td>\n",
       "      <td>188</td>\n",
       "      <td>19.1</td>\n",
       "      <td>377.67</td>\n",
       "      <td>14.27</td>\n",
       "    </tr>\n",
       "    <tr>\n",
       "      <th>218</th>\n",
       "      <td>0.11069</td>\n",
       "      <td>0.0</td>\n",
       "      <td>13.89</td>\n",
       "      <td>1</td>\n",
       "      <td>0.550</td>\n",
       "      <td>5.951</td>\n",
       "      <td>93.8</td>\n",
       "      <td>2.8893</td>\n",
       "      <td>5</td>\n",
       "      <td>276</td>\n",
       "      <td>16.4</td>\n",
       "      <td>396.90</td>\n",
       "      <td>17.92</td>\n",
       "    </tr>\n",
       "  </tbody>\n",
       "</table>\n",
       "<p>102 rows × 13 columns</p>\n",
       "</div>"
      ],
      "text/plain": [
       "       CRIM    ZN     INDUS  CHAS     NOX     RM    AGE      DIS     RAD   \\\n",
       "342   0.02498    0.0   1.89       0   0.518  6.540     59.7  6.2669     1   \n",
       "379  17.86670    0.0  18.10       0   0.671  6.223    100.0  1.3861    24   \n",
       "223   0.61470    0.0   6.20       0   0.507  6.618     80.8  3.2721     8   \n",
       "219   0.11425    0.0  13.89       1   0.550  6.373     92.4  3.3633     5   \n",
       "48    0.25387    0.0   6.91       0   0.448  5.399     95.3  5.8700     3   \n",
       "..        ...    ...    ...     ...     ...    ...      ...     ...   ...   \n",
       "88    0.05660    0.0   3.41       0   0.489  7.007     86.3  3.4217     2   \n",
       "466   3.77498    0.0  18.10       0   0.655  5.952     84.7  2.8715    24   \n",
       "52    0.05360   21.0   5.64       0   0.439  6.511     21.1  6.8147     4   \n",
       "121   0.07165    0.0  25.65       0   0.581  6.004     84.1  2.1974     2   \n",
       "218   0.11069    0.0  13.89       1   0.550  5.951     93.8  2.8893     5   \n",
       "\n",
       "     TAX    PTRATIO       B   LSTAT    \n",
       "342   422       15.9  389.96     8.65  \n",
       "379   666       20.2  393.74    21.78  \n",
       "223   307       17.4  396.90     7.60  \n",
       "219   276       16.4  393.74    10.50  \n",
       "48    233       17.9  396.90    30.81  \n",
       "..    ...        ...     ...      ...  \n",
       "88    270       17.8  396.90     5.50  \n",
       "466   666       20.2   22.01    17.15  \n",
       "52    243       16.8  396.90     5.28  \n",
       "121   188       19.1  377.67    14.27  \n",
       "218   276       16.4  396.90    17.92  \n",
       "\n",
       "[102 rows x 13 columns]"
      ]
     },
     "execution_count": 71,
     "metadata": {},
     "output_type": "execute_result"
    }
   ],
   "source": [
    "x_test"
   ]
  },
  {
   "cell_type": "code",
   "execution_count": null,
   "id": "916d0ead",
   "metadata": {},
   "outputs": [],
   "source": []
  },
  {
   "cell_type": "code",
   "execution_count": null,
   "id": "16b34485",
   "metadata": {},
   "outputs": [],
   "source": []
  }
 ],
 "metadata": {
  "kernelspec": {
   "display_name": "Python 3 (ipykernel)",
   "language": "python",
   "name": "python3"
  },
  "language_info": {
   "codemirror_mode": {
    "name": "ipython",
    "version": 3
   },
   "file_extension": ".py",
   "mimetype": "text/x-python",
   "name": "python",
   "nbconvert_exporter": "python",
   "pygments_lexer": "ipython3",
   "version": "3.10.2"
  }
 },
 "nbformat": 4,
 "nbformat_minor": 5
}
